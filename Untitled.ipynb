{
 "cells": [
  {
   "cell_type": "markdown",
   "metadata": {},
   "source": [
    "# Hello World"
   ]
  },
  {
   "cell_type": "code",
   "execution_count": 3,
   "metadata": {
    "collapsed": false
   },
   "outputs": [
    {
     "name": "stdout",
     "output_type": "stream",
     "text": [
      "Hello World\n"
     ]
    }
   ],
   "source": [
    "print \"Hello World\""
   ]
  },
  {
   "cell_type": "markdown",
   "metadata": {},
   "source": [
    "# Komentari"
   ]
  },
  {
   "cell_type": "code",
   "execution_count": 4,
   "metadata": {
    "collapsed": true
   },
   "outputs": [],
   "source": [
    " # -*- coding: utf-8 -*-"
   ]
  },
  {
   "cell_type": "code",
   "execution_count": 6,
   "metadata": {
    "collapsed": false
   },
   "outputs": [
    {
     "name": "stdout",
     "output_type": "stream",
     "text": [
      "Ćirilo i Metodije\n"
     ]
    }
   ],
   "source": [
    "print \"Ćirilo i Metodije\"\n",
    "#print \"rakija\""
   ]
  },
  {
   "cell_type": "markdown",
   "metadata": {},
   "source": [
    "# Matematičke operacije"
   ]
  },
  {
   "cell_type": "code",
   "execution_count": 8,
   "metadata": {
    "collapsed": false
   },
   "outputs": [
    {
     "name": "stdout",
     "output_type": "stream",
     "text": [
      "4\n",
      "4\n",
      "2\n",
      "2.5\n"
     ]
    }
   ],
   "source": [
    "print 2 +2 \n",
    "print 2*2 \n",
    "print 5/2\n",
    "print 5.0/2"
   ]
  },
  {
   "cell_type": "markdown",
   "metadata": {},
   "source": [
    "# Logičke operacije"
   ]
  },
  {
   "cell_type": "code",
   "execution_count": 10,
   "metadata": {
    "collapsed": false
   },
   "outputs": [
    {
     "name": "stdout",
     "output_type": "stream",
     "text": [
      "True\n",
      "False\n"
     ]
    }
   ],
   "source": [
    "print 2 < 3 \n",
    "print 3 == 2 "
   ]
  },
  {
   "cell_type": "markdown",
   "metadata": {},
   "source": [
    "# IF naredba"
   ]
  },
  {
   "cell_type": "markdown",
   "metadata": {},
   "source": [
    "# Primer 1"
   ]
  },
  {
   "cell_type": "code",
   "execution_count": 4,
   "metadata": {
    "collapsed": false
   },
   "outputs": [
    {
     "name": "stdout",
     "output_type": "stream",
     "text": [
      "Koje godine si rodjen/rodjena?\n",
      "1996\n",
      "Uneta godina rodjenja: 1996\n",
      "Trenutna godina: 2016\n",
      "Starost: 20\n",
      "Punoletan/punoletna si\n"
     ]
    }
   ],
   "source": [
    "import datetime\n",
    "\n",
    "print \"Koje godine si rodjen/rodjena?\"\n",
    "godina_rodjenja = raw_input()\n",
    "\n",
    "godina = datetime.date.today().year\n",
    "#godina = int(godina)\n",
    "godina_rodjenja = int(godina_rodjenja)\n",
    "\n",
    "if godina < godina_rodjenja:\n",
    "    print \"ne zezaj\"\n",
    "else:\n",
    "\n",
    "    print \"Uneta godina rodjenja:\", godina_rodjenja\n",
    "    print \"Trenutna godina:\", godina\n",
    "    starost=godina - godina_rodjenja\n",
    "    print \"Starost:\", starost\n",
    "if starost >=18:\n",
    "    print \"Punoletan/punoletna si\"\n",
    "else:\n",
    "    print \"Klinac si\""
   ]
  },
  {
   "cell_type": "markdown",
   "metadata": {},
   "source": [
    "# Strukture"
   ]
  },
  {
   "cell_type": "markdown",
   "metadata": {},
   "source": [
    "Liste"
   ]
  },
  {
   "cell_type": "code",
   "execution_count": 8,
   "metadata": {
    "collapsed": false
   },
   "outputs": [
    {
     "data": {
      "text/plain": [
       "['a', 'b', 'c']"
      ]
     },
     "execution_count": 8,
     "metadata": {},
     "output_type": "execute_result"
    }
   ],
   "source": [
    "lista = ['a', 'b', 'c']\n",
    "lista"
   ]
  },
  {
   "cell_type": "code",
   "execution_count": 10,
   "metadata": {
    "collapsed": false
   },
   "outputs": [
    {
     "data": {
      "text/plain": [
       "[1, 'b', 'c']"
      ]
     },
     "execution_count": 10,
     "metadata": {},
     "output_type": "execute_result"
    }
   ],
   "source": [
    "lista = [1, 'b', 'c']\n",
    "lista"
   ]
  },
  {
   "cell_type": "code",
   "execution_count": 11,
   "metadata": {
    "collapsed": false
   },
   "outputs": [
    {
     "data": {
      "text/plain": [
       "[['a', 1, 'b', 2], 'b', 'c']"
      ]
     },
     "execution_count": 11,
     "metadata": {},
     "output_type": "execute_result"
    }
   ],
   "source": [
    " lista = [['a',1,'b',2], 'b', 'c']\n",
    "lista"
   ]
  },
  {
   "cell_type": "markdown",
   "metadata": {},
   "source": [
    "Dictionary"
   ]
  },
  {
   "cell_type": "code",
   "execution_count": 14,
   "metadata": {
    "collapsed": false
   },
   "outputs": [],
   "source": [
    "recnik = {'jabuka':15,'kruska':16, 'jagoda':'40'}"
   ]
  },
  {
   "cell_type": "code",
   "execution_count": 15,
   "metadata": {
    "collapsed": false
   },
   "outputs": [
    {
     "data": {
      "text/plain": [
       "{'jabuka': 15, 'jagoda': '40', 'kruska': 16}"
      ]
     },
     "execution_count": 15,
     "metadata": {},
     "output_type": "execute_result"
    }
   ],
   "source": [
    "recnik"
   ]
  },
  {
   "cell_type": "markdown",
   "metadata": {
    "collapsed": true
   },
   "source": [
    "# Petlje"
   ]
  },
  {
   "cell_type": "code",
   "execution_count": 17,
   "metadata": {
    "collapsed": false
   },
   "outputs": [
    {
     "name": "stdout",
     "output_type": "stream",
     "text": [
      "0\n",
      "1\n",
      "2\n",
      "3\n",
      "4\n",
      "5\n",
      "6\n",
      "7\n",
      "8\n",
      "9\n"
     ]
    }
   ],
   "source": [
    "for i in range(0,10):\n",
    "    print i "
   ]
  },
  {
   "cell_type": "code",
   "execution_count": 18,
   "metadata": {
    "collapsed": false
   },
   "outputs": [
    {
     "name": "stdout",
     "output_type": "stream",
     "text": [
      "rakija\n",
      "vodka\n",
      "viski\n",
      "tekila\n"
     ]
    }
   ],
   "source": [
    "zestoka_lista = ['rakija', 'vodka', 'viski', 'tekila']\n",
    "\n",
    "for pice in zestoka_lista:\n",
    "    print pice "
   ]
  },
  {
   "cell_type": "code",
   "execution_count": 20,
   "metadata": {
    "collapsed": false
   },
   "outputs": [
    {
     "name": "stdout",
     "output_type": "stream",
     "text": [
      "ne\n",
      "burek\n",
      "ne\n",
      "pica\n",
      "da\n",
      "kupus\n"
     ]
    }
   ],
   "source": [
    "zdrava_hrana = {'burek':'ne', 'pica':'ne', 'kupus':'da'}\n",
    "for i in zdrava_hrana:\n",
    "    print zdrava_hrana[i]\n",
    "    print i"
   ]
  },
  {
   "cell_type": "markdown",
   "metadata": {},
   "source": [
    "# Primer 2"
   ]
  },
  {
   "cell_type": "code",
   "execution_count": 7,
   "metadata": {
    "collapsed": false
   },
   "outputs": [
    {
     "name": "stdout",
     "output_type": "stream",
     "text": [
      "Hocete li da unesete novu plejlistu (da/ne): \n",
      "\n",
      "da\n",
      "True\n",
      "Unesi naziv plejliste: \n",
      "\n",
      "da\n",
      "Unesi nazive pesama i razdvoji ih @ simbolom: \n",
      "\n",
      "3@3@1@2\n",
      "Hocete li da unesete novu plejlistu (da/ne): \n",
      "\n",
      "ne\n",
      "{'da': ['3', '3', '1', '2']}\n"
     ]
    }
   ],
   "source": [
    "def dodaj_plejlistu(plejlista, lista_pesama):\n",
    "        plejliste[plejlista] = lista_pesama\n",
    "        #print plejliste\n",
    "\n",
    "print \"Hocete li da unesete novu plejlistu (da/ne): \\n\"\n",
    "da_ne = raw_input()\n",
    "\n",
    "vrti = False\n",
    "\n",
    "def da_li_vrti(tekst):\n",
    "    if da_ne == \"da\":\n",
    "        vrti = True\n",
    "    else:\n",
    "        vrti = False \n",
    "    return vrti\n",
    "\n",
    "vrti = da_li_vrti(da_ne)\n",
    "print vrti \n",
    "while vrti:\n",
    "    print \"Unesi naziv plejliste: \\n\"\n",
    "    ime_plejliste = raw_input()\n",
    "    print \"Unesi nazive pesama i razdvoji ih @ simbolom: \\n\"\n",
    "    pesme = raw_input()\n",
    "\n",
    "    plejliste = {}\n",
    "    pesme = pesme.split('@')\n",
    "\n",
    "    dodaj_plejlistu(ime_plejliste, pesme)\n",
    "    \n",
    "    print \"Hocete li da unesete novu plejlistu (da/ne): \\n\"\n",
    "    da_ne = raw_input()\n",
    "    vrti = da_li_vrti(da_ne)\n",
    "    \n",
    "print plejliste"
   ]
  },
  {
   "cell_type": "markdown",
   "metadata": {},
   "source": [
    "# Primer 3 "
   ]
  },
  {
   "cell_type": "code",
   "execution_count": 43,
   "metadata": {
    "collapsed": false
   },
   "outputs": [
    {
     "name": "stdout",
     "output_type": "stream",
     "text": [
      "Ova plejlista ima: 3 pesame \n",
      "Ime ove plejliste je: rep\n",
      "\n",
      "Plejlistu cine: \n",
      "Rap God\n",
      "What happened\n",
      "California Love\n",
      "Ova plejlista ima: 3 pesame \n",
      "Ime ove plejliste je: rok\n",
      "\n",
      "Plejlistu cine: \n",
      "Resistance\n",
      "Gasoline\n",
      "It's so easy\n",
      "Ova plejlista ima: 2 pesame \n",
      "Ime ove plejliste je: pop\n",
      "\n",
      "Plejlistu cine: \n",
      "Hello\n",
      "Happy\n"
     ]
    }
   ],
   "source": [
    "plejliste = {\n",
    "        'rok': ['Resistance', 'Gasoline', \"It's so easy\"],\n",
    "        'pop': ['Hello', 'Happy'],\n",
    "        'rep': ['Rap God', 'What happened', 'California Love']\n",
    "    }\n",
    "\n",
    "\n",
    "for plejlista in plejliste:\n",
    "    \n",
    "    lista_pesama = plejliste[plejlista]\n",
    "\n",
    "    print \"\\nOva plejlista ima: %d pesame \" % len(lista_pesama)\n",
    "    print \"Ime ove plejliste je: \"+ plejlista\n",
    "    print \"Plejlistu cine: \"\n",
    "    for pesma in plejliste[plejlista]:\n",
    "        print pesma"
   ]
  },
  {
   "cell_type": "code",
   "execution_count": null,
   "metadata": {
    "collapsed": true
   },
   "outputs": [],
   "source": []
  }
 ],
 "metadata": {
  "kernelspec": {
   "display_name": "Python 2",
   "language": "python",
   "name": "python2"
  },
  "language_info": {
   "codemirror_mode": {
    "name": "ipython",
    "version": 2
   },
   "file_extension": ".py",
   "mimetype": "text/x-python",
   "name": "python",
   "nbconvert_exporter": "python",
   "pygments_lexer": "ipython2",
   "version": "2.7.11"
  }
 },
 "nbformat": 4,
 "nbformat_minor": 0
}
