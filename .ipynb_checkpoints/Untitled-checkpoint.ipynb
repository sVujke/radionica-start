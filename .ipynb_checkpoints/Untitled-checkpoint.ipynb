{
 "cells": [
  {
   "cell_type": "markdown",
   "metadata": {},
   "source": [
    "# Hello World"
   ]
  },
  {
   "cell_type": "code",
   "execution_count": 3,
   "metadata": {
    "collapsed": false
   },
   "outputs": [
    {
     "name": "stdout",
     "output_type": "stream",
     "text": [
      "Hello World\n"
     ]
    }
   ],
   "source": [
    "print \"Hello World\""
   ]
  },
  {
   "cell_type": "markdown",
   "metadata": {},
   "source": [
    "# Komentari"
   ]
  },
  {
   "cell_type": "code",
   "execution_count": 4,
   "metadata": {
    "collapsed": true
   },
   "outputs": [],
   "source": [
    " # -*- coding: utf-8 -*-"
   ]
  },
  {
   "cell_type": "code",
   "execution_count": 6,
   "metadata": {
    "collapsed": false
   },
   "outputs": [
    {
     "name": "stdout",
     "output_type": "stream",
     "text": [
      "Ćirilo i Metodije\n"
     ]
    }
   ],
   "source": [
    "print \"Ćirilo i Metodije\"\n",
    "#print \"rakija\""
   ]
  },
  {
   "cell_type": "markdown",
   "metadata": {},
   "source": [
    "# Matematičke operacije"
   ]
  },
  {
   "cell_type": "code",
   "execution_count": 8,
   "metadata": {
    "collapsed": false
   },
   "outputs": [
    {
     "name": "stdout",
     "output_type": "stream",
     "text": [
      "4\n",
      "4\n",
      "2\n",
      "2.5\n"
     ]
    }
   ],
   "source": [
    "print 2 +2 \n",
    "print 2*2 \n",
    "print 5/2\n",
    "print 5.0/2"
   ]
  },
  {
   "cell_type": "markdown",
   "metadata": {},
   "source": [
    "# Logičke operacije"
   ]
  },
  {
   "cell_type": "code",
   "execution_count": 10,
   "metadata": {
    "collapsed": false
   },
   "outputs": [
    {
     "name": "stdout",
     "output_type": "stream",
     "text": [
      "True\n",
      "False\n"
     ]
    }
   ],
   "source": [
    "print 2 < 3 \n",
    "print 3 == 2 "
   ]
  },
  {
   "cell_type": "code",
   "execution_count": 2,
   "metadata": {
    "collapsed": false
   },
   "outputs": [
    {
     "ename": "IndentationError",
     "evalue": "expected an indented block (<ipython-input-2-98b623b38411>, line 14)",
     "output_type": "error",
     "traceback": [
      "\u001b[1;36m  File \u001b[1;32m\"<ipython-input-2-98b623b38411>\"\u001b[1;36m, line \u001b[1;32m14\u001b[0m\n\u001b[1;33m    print \"Uneta godina rodjenja:\", godina_rodjenja\u001b[0m\n\u001b[1;37m        ^\u001b[0m\n\u001b[1;31mIndentationError\u001b[0m\u001b[1;31m:\u001b[0m expected an indented block\n"
     ]
    }
   ],
   "source": [
    "import datetime\n",
    "\n",
    "print \"Koje godine si rodjen/rodjena?\"\n",
    "godina_rodjenja = raw_input()\n",
    "\n",
    "godina = datetime.date.today().year\n",
    "#godina = int(godina)\n",
    "godina_rodjenja = int(godina_rodjenja)\n",
    "\n",
    "if godina < godina_rodjenja:\n",
    "    print \"ne zezaj\"\n",
    "else:\n",
    "\n",
    "    print \"Uneta godina rodjenja:\", godina_rodjenja\n",
    "    print \"Trenutna godina:\", godina\n",
    "    starost=godina - godina_rodjenja\n",
    "    print \"Starost:\", starost\n",
    "if starost >=18:\n",
    "    print \"Punoletan si\"\n",
    "else:\n",
    "    print \"Klinac si\""
   ]
  },
  {
   "cell_type": "markdown",
   "metadata": {},
   "source": [
    "# Strukture"
   ]
  },
  {
   "cell_type": "code",
   "execution_count": 1,
   "metadata": {
    "collapsed": false
   },
   "outputs": [
    {
     "name": "stdout",
     "output_type": "stream",
     "text": [
      "Hocete li da unesete novu plejlistu (da/ne): \n",
      "\n",
      "ne\n",
      "False\n"
     ]
    }
   ],
   "source": [
    "def dodaj_plejlistu(plejlista, lista_pesama):\n",
    "        plejliste[plejlista] = lista_pesama\n",
    "        #print plejliste\n",
    "\n",
    "print \"Hocete li da unesete novu plejlistu (da/ne): \\n\"\n",
    "da_ne = raw_input()\n",
    "\n",
    "vrti = False\n",
    "\n",
    "def da_li_vrti(tekst):\n",
    "    if da_ne == \"da\":\n",
    "        vrti = True\n",
    "    else:\n",
    "        vrti = False \n",
    "    return vrti\n",
    "\n",
    "vrti = da_li_vrti(da_ne)\n",
    "print vrti \n",
    "while vrti:\n",
    "    print \"Unesi naziv plejliste: \\n\"\n",
    "    ime_plejliste = raw_input()\n",
    "    print \"Unesi nazive pesama i razdvoji ih @ simbolom: \\n\"\n",
    "    pesme = raw_input()\n",
    "\n",
    "    plejliste = {}\n",
    "    pesme = pesme.split('@')\n",
    "\n",
    "    dodaj_plejlistu(ime_plejliste, pesme)\n",
    "    \n",
    "    print \"Hocete li da unesete novu plejlistu (da/ne): \\n\"\n",
    "    da_ne = raw_input()\n",
    "    vrti = da_li_vrti(da_ne)\n",
    "    \n",
    "#print plejlista"
   ]
  },
  {
   "cell_type": "code",
   "execution_count": null,
   "metadata": {
    "collapsed": true
   },
   "outputs": [],
   "source": [
    "while x < 10:\n",
    "    print 1"
   ]
  },
  {
   "cell_type": "code",
   "execution_count": null,
   "metadata": {
    "collapsed": true
   },
   "outputs": [],
   "source": []
  }
 ],
 "metadata": {
  "kernelspec": {
   "display_name": "Python 2",
   "language": "python",
   "name": "python2"
  },
  "language_info": {
   "codemirror_mode": {
    "name": "ipython",
    "version": 2
   },
   "file_extension": ".py",
   "mimetype": "text/x-python",
   "name": "python",
   "nbconvert_exporter": "python",
   "pygments_lexer": "ipython2",
   "version": "2.7.11"
  }
 },
 "nbformat": 4,
 "nbformat_minor": 0
}
